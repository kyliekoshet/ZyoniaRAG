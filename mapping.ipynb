{
 "cells": [
  {
   "cell_type": "code",
   "execution_count": 102,
   "metadata": {},
   "outputs": [
    {
     "name": "stdout",
     "output_type": "stream",
     "text": [
      "Rows after dropping nulls: 1,066\n"
     ]
    }
   ],
   "source": [
    "import pandas as pd\n",
    "from pathlib import Path\n",
    "\n",
    "file_name = \"best_data.csv\"              \n",
    "df = pd.read_csv(Path.cwd() / file_name)\n",
    "\n",
    "df_clean = df.dropna()\n",
    "\n",
    "print(f\"Rows after dropping nulls: {len(df_clean):,}\")\n"
   ]
  },
  {
   "cell_type": "code",
   "execution_count": 103,
   "metadata": {},
   "outputs": [],
   "source": [
    "df_clean = df_clean.rename(columns={'property_type': 'Tipo de vivienda'})"
   ]
  },
  {
   "cell_type": "code",
   "execution_count": 104,
   "metadata": {},
   "outputs": [
    {
     "name": "stdout",
     "output_type": "stream",
     "text": [
      "Estado\n",
      "reformado         478\n",
      "en buen estado    465\n",
      "a reformar        123\n",
      "Name: count, dtype: int64\n"
     ]
    }
   ],
   "source": [
    "import numpy as np\n",
    "\n",
    "np.random.seed(42)\n",
    "\n",
    "# 1. Compute masks for the three deterministic cases\n",
    "mask_needs_reno   = df_clean['needs renovating']                              # True  → “a reformar”\n",
    "mask_new_build    = ~df_clean['second hand'] & ~df_clean['needs renovating']        # False/False → “a estrenar”\n",
    "mask_second_good  = df_clean['second hand'] & ~df_clean['needs renovating']         # True/False  → random choice\n",
    "\n",
    "# 2. Allocate the values\n",
    "df_clean.loc[mask_needs_reno, 'Estado'] = 'a reformar'\n",
    "df_clean.loc[mask_new_build,  'Estado'] = 'a estrenar'\n",
    "\n",
    "# For the rows that are second-hand but in good condition, choose randomly\n",
    "choices = np.random.choice(['en buen estado', 'reformado'],\n",
    "                           size=mask_second_good.sum())\n",
    "df_clean.loc[mask_second_good, 'Estado'] = choices\n",
    "\n",
    "# 3. Drop the original boolean columns\n",
    "df_clean = df_clean.drop(columns=['second hand', 'needs renovating'])\n",
    "\n",
    "# 4. (Optional) inspect the result\n",
    "print(df_clean['Estado'].value_counts())\n"
   ]
  },
  {
   "cell_type": "code",
   "execution_count": 105,
   "metadata": {},
   "outputs": [
    {
     "name": "stdout",
     "output_type": "stream",
     "text": [
      "Rows with 'calle' in the adress column: 607\n"
     ]
    }
   ],
   "source": [
    "# Count rows whose 'adress' cell contains the substring \"calle\"\n",
    "n_calle = df_clean['adress'].str.contains('calle', case=False, na=False).sum()\n",
    "\n",
    "print(f\"Rows with 'calle' in the adress column: {n_calle}\")\n"
   ]
  },
  {
   "cell_type": "code",
   "execution_count": 106,
   "metadata": {},
   "outputs": [],
   "source": [
    "df_clean.rename(columns={'n_bedrooms': 'Habitaciones',\n",
    "                         'bathrooms':  'Baños'},\n",
    "                inplace=True)\n"
   ]
  },
  {
   "cell_type": "code",
   "execution_count": 107,
   "metadata": {},
   "outputs": [
    {
     "name": "stdout",
     "output_type": "stream",
     "text": [
      "Interes\n",
      "comprar       1023\n",
      "obra nueva      27\n",
      "alquilar        16\n",
      "Name: count, dtype: int64\n"
     ]
    }
   ],
   "source": [
    "import numpy as np\n",
    "import re\n",
    "from datetime import datetime\n",
    "\n",
    "# ── tweak this only ──────────────────────────────────────────────────────────\n",
    "RENT_THRESHOLD = 20_000        # €: anything below this is treated as rent\n",
    "# ---------------------------------------------------------------------------\n",
    "\n",
    "current_year = datetime.now().year\n",
    "\n",
    "pat_new  = re.compile(r'\\b(obra\\s+nueva|new\\s+(build|development)|obra_nueva)\\b', re.I)\n",
    "pat_rent = re.compile(r'\\b(alquiler|alquilar|se\\s+alquila|en\\s+alquiler|for\\s+rent|to\\s+rent)\\b', re.I)\n",
    "\n",
    "def classify_interes(row):\n",
    "    text  = str(row['description']).lower()\n",
    "    price = row['price']\n",
    "\n",
    "    # ---- obra nueva ---------------------------------------------------------\n",
    "    if pat_new.search(text):\n",
    "        return 'obra nueva'\n",
    "    if not row.get('second hand', True) and not row.get('needs renovating', False):\n",
    "        return 'obra nueva'\n",
    "    if row.get('year_built') is not None and row['year_built'] >= current_year - 2:\n",
    "        return 'obra nueva'\n",
    "\n",
    "    # ---- alquiler -----------------------------------------------------------\n",
    "    if pat_rent.search(text) or price < RENT_THRESHOLD:\n",
    "        return 'alquilar'\n",
    "\n",
    "    # ---- comprar (fallback) -------------------------------------------------\n",
    "    return 'comprar'\n",
    "\n",
    "# apply & split\n",
    "df_clean['Interes'] = df_clean.apply(classify_interes, axis=1)\n",
    "\n",
    "df_clean['Precio de compra (€)'] = np.where(\n",
    "    df_clean['Interes'].isin(['comprar', 'obra nueva']),\n",
    "    df_clean['price'],\n",
    "    np.nan\n",
    ")\n",
    "df_clean['Precio de alquiler'] = np.where(\n",
    "    df_clean['Interes'] == 'alquilar',\n",
    "    df_clean['price'],\n",
    "    np.nan\n",
    ")\n",
    "\n",
    "# (optional) keep or drop 'price' as you prefer\n",
    "# df_clean.drop(columns=['price'], inplace=True)\n",
    "\n",
    "print(df_clean['Interes'].value_counts(dropna=False))\n",
    "\n"
   ]
  },
  {
   "cell_type": "code",
   "execution_count": 108,
   "metadata": {},
   "outputs": [],
   "source": [
    "import numpy as np\n",
    "\n",
    "# Parameters\n",
    "n_to_convert = 350\n",
    "price_to_rent_years = 20\n",
    "\n",
    "# Filter only \"comprar\" rows with non-null purchase price\n",
    "comprar_mask = (df_clean['Interes'] == 'comprar') & df_clean['Precio de compra (€)'].notnull()\n",
    "\n",
    "# Randomly sample 350 indices from that set\n",
    "indices_to_convert = df_clean[comprar_mask].sample(n=n_to_convert, random_state=42).index\n",
    "\n",
    "# Update 'Interes' to 'alquilar'\n",
    "df_clean.loc[indices_to_convert, 'Interes'] = 'alquilar'\n",
    "\n",
    "# Calculate rental price and set it\n",
    "df_clean.loc[indices_to_convert, 'Precio de alquiler'] = (\n",
    "    df_clean.loc[indices_to_convert, 'Precio de compra (€)'] / (price_to_rent_years * 12)\n",
    ")\n",
    "\n",
    "# Nullify 'Precio de compra (€)'\n",
    "df_clean.loc[indices_to_convert, 'Precio de compra (€)'] = np.nan\n"
   ]
  },
  {
   "cell_type": "code",
   "execution_count": 109,
   "metadata": {},
   "outputs": [],
   "source": [
    "df_clean.rename(columns={'sq_mt_built': 'Superficie total (m²)'}, inplace=True)\n"
   ]
  },
  {
   "cell_type": "code",
   "execution_count": 110,
   "metadata": {},
   "outputs": [],
   "source": [
    "df_clean.rename(columns={'heating': 'Calefacción'}, inplace=True)\n"
   ]
  },
  {
   "cell_type": "code",
   "execution_count": 111,
   "metadata": {},
   "outputs": [],
   "source": [
    "df_clean.rename(columns={'air conditioning': 'Aire acondicionado'}, inplace=True)\n"
   ]
  },
  {
   "cell_type": "code",
   "execution_count": 112,
   "metadata": {},
   "outputs": [],
   "source": [
    "df_clean.rename(columns={'parking': 'garage'}, inplace=True)\n"
   ]
  },
  {
   "cell_type": "code",
   "execution_count": 113,
   "metadata": {},
   "outputs": [],
   "source": [
    "df_clean.rename(columns={'balcony': 'Balcon'}, inplace=True)\n"
   ]
  },
  {
   "cell_type": "code",
   "execution_count": 114,
   "metadata": {},
   "outputs": [],
   "source": [
    "df_clean.rename(columns={'terrace': 'Terraza'}, inplace=True)\n"
   ]
  },
  {
   "cell_type": "code",
   "execution_count": 115,
   "metadata": {},
   "outputs": [],
   "source": [
    "df_clean.rename(columns={'swimming pool': 'Piscina'}, inplace=True)\n"
   ]
  },
  {
   "cell_type": "code",
   "execution_count": 116,
   "metadata": {},
   "outputs": [],
   "source": [
    "df_clean.rename(columns={'garden': 'Jardin'}, inplace=True)\n"
   ]
  },
  {
   "cell_type": "code",
   "execution_count": 117,
   "metadata": {},
   "outputs": [],
   "source": [
    "df_clean.rename(columns={'lift_x': 'Ascensor'}, inplace=True)\n"
   ]
  },
  {
   "cell_type": "code",
   "execution_count": 118,
   "metadata": {},
   "outputs": [
    {
     "name": "stdout",
     "output_type": "stream",
     "text": [
      "Tipo de planta\n",
      "Intermedia    787\n",
      "Baja          143\n",
      "Alta          136\n",
      "Name: count, dtype: int64\n"
     ]
    }
   ],
   "source": [
    "import numpy as np\n",
    "\n",
    "# 1️⃣  Keep the numeric storey as-is\n",
    "df_clean['Numero de Planta'] = df_clean['floor_y']\n",
    "\n",
    "# 2️⃣  Map floor_y → Tipo de planta\n",
    "df_clean['Tipo de planta'] = np.select(\n",
    "    condlist=[\n",
    "        df_clean['floor_y'] <= 0,                  # Baja: ≤ 0\n",
    "        df_clean['floor_y'].between(1, 5),        # Intermedia: 1-5\n",
    "        df_clean['floor_y'] >= 6                  # Alta: ≥ 6\n",
    "    ],\n",
    "    choicelist=['Baja', 'Intermedia', 'Alta'],\n",
    "    default=None          # avoids the dtype clash with strings\n",
    ").astype('object')        # make the column a clean object/str dtype\n",
    "\n",
    "# 3️⃣  Remove the old column\n",
    "df_clean.drop(columns=['floor_y'], inplace=True)\n",
    "\n",
    "# 4️⃣  (Optional) quick check\n",
    "print(df_clean['Tipo de planta'].value_counts(dropna=False))\n"
   ]
  },
  {
   "cell_type": "code",
   "execution_count": 119,
   "metadata": {},
   "outputs": [],
   "source": [
    "df_clean.rename(columns={'exterior_x': 'Vistas al exterior'}, inplace=True)\n"
   ]
  },
  {
   "cell_type": "code",
   "execution_count": 120,
   "metadata": {},
   "outputs": [],
   "source": [
    "df_clean.rename(columns={'sq_m_floor_area': 'Superficie util (m2)'}, inplace=True)\n"
   ]
  },
  {
   "cell_type": "code",
   "execution_count": 121,
   "metadata": {},
   "outputs": [
    {
     "name": "stdout",
     "output_type": "stream",
     "text": [
      "Certificado energético\n",
      "E    413\n",
      "D    301\n",
      "G    108\n",
      "C    106\n",
      "A     64\n",
      "F     50\n",
      "B     24\n",
      "Name: count, dtype: int64\n"
     ]
    }
   ],
   "source": [
    "import numpy as np\n",
    "import pandas as pd\n",
    "\n",
    "# ─────────────────────────────────────────────────────────────────────────────\n",
    "# 0.  IDAE reference bands (housing, national averages)\n",
    "#     “≤ upper-bound” belongs to that band\n",
    "# ─────────────────────────────────────────────────────────────────────────────\n",
    "cons_thresholds  = np.array([44.6, 72.3, 112.1, 172.3, 303.7, 382.6])   # kWh\n",
    "emis_thresholds  = np.array([10,   16.3, 25.3,  38.9,  66.0,  79.2])    # kg-CO₂\n",
    "letters          = np.array(list('ABCDEFG'))                            # index 0 → “A”, …\n",
    "\n",
    "# ─────────────────────────────────────────────────────────────────────────────\n",
    "# 1.  Helper: numeric Series → array of letters (vectorised, NaN-safe)\n",
    "# ─────────────────────────────────────────────────────────────────────────────\n",
    "def to_letter(series: pd.Series, thresholds: np.ndarray) -> pd.Series:\n",
    "    idx = np.searchsorted(thresholds, series.fillna(np.inf), side='right')\n",
    "    out = pd.Series(letters[idx], index=series.index, dtype='object')\n",
    "    out[series.isna()] = np.nan\n",
    "    return out\n",
    "\n",
    "df_clean['cert_cons'] = to_letter(df_clean['consumption_in_mkw/m2_year'],\n",
    "                                  cons_thresholds)\n",
    "df_clean['cert_emis'] = to_letter(df_clean['emissions_in_kgco2/m2_year'],\n",
    "                                  emis_thresholds)\n",
    "\n",
    "# ─────────────────────────────────────────────────────────────────────────────\n",
    "# 2.  Global class = “worst” (alphabetically later) of the two partial letters\n",
    "# ─────────────────────────────────────────────────────────────────────────────\n",
    "rank = {l: i for i, l in enumerate(letters)}     # A→0, …, G→6\n",
    "reverse_rank = {v: k for k, v in rank.items()}\n",
    "\n",
    "worst_rank = pd.DataFrame({\n",
    "    'c': df_clean['cert_cons'].map(rank),\n",
    "    'e': df_clean['cert_emis'].map(rank)\n",
    "}).max(axis=1, skipna=True)\n",
    "\n",
    "df_clean['Certificado energético'] = worst_rank.map(reverse_rank)\n",
    "\n",
    "# ─────────────────────────────────────────────────────────────────────────────\n",
    "# 3.  Clean-up: drop the numeric inputs + helper cols\n",
    "# ─────────────────────────────────────────────────────────────────────────────\n",
    "df_clean.drop(columns=[\n",
    "    'consumption_in_mkw/m2_year',\n",
    "    'emissions_in_kgco2/m2_year',\n",
    "    'cert_cons', 'cert_emis'\n",
    "], inplace=True)\n",
    "\n",
    "# ─────────────────────────────────────────────────────────────────────────────\n",
    "# 4.  Quick check\n",
    "# ─────────────────────────────────────────────────────────────────────────────\n",
    "print(df_clean['Certificado energético'].value_counts(dropna=False))\n"
   ]
  },
  {
   "cell_type": "code",
   "execution_count": 122,
   "metadata": {},
   "outputs": [],
   "source": [
    "df_clean.rename(columns={'year_built': 'Año de construccion'}, inplace=True)\n"
   ]
  },
  {
   "cell_type": "code",
   "execution_count": 123,
   "metadata": {},
   "outputs": [
    {
     "name": "stdout",
     "output_type": "stream",
     "text": [
      "          Ubicacion: calle y numero\n",
      "3              rambla del Raval 173\n",
      "14        avenida del Paral·lel 149\n",
      "68              calle sant marti 80\n",
      "135  calle de Santa Joana d'Arc 213\n",
      "147            calle d'Ortigosa 203\n",
      "Rows kept after filtering: 821\n"
     ]
    },
    {
     "name": "stderr",
     "output_type": "stream",
     "text": [
      "/var/folders/5r/5_r4h6857zz40638vhy248s40000gn/T/ipykernel_36490/592485396.py:12: UserWarning: This pattern is interpreted as a regular expression, and has match groups. To actually get the groups, use str.extract.\n",
      "  mask_street = df_clean['adress'].str.contains(STREET_REGEX, case=False, na=False, regex=True)\n"
     ]
    }
   ],
   "source": [
    "import numpy as np\n",
    "import re\n",
    "\n",
    "# ── 1  filter rows whose address contains any common street keyword ─────────\n",
    "STREET_REGEX = (\n",
    "    r'\\b('\n",
    "    r'calle|avenida|avda\\.?|paseo|pso\\.?|plaza|pl\\.?|rambla|carrer|camino|cami'\n",
    "    r'|ronda|via|vía|traves[ií]a|callejon|callejón|glorieta'\n",
    "    r')\\b'\n",
    ")\n",
    "\n",
    "mask_street = df_clean['adress'].str.contains(STREET_REGEX, case=False, na=False, regex=True)\n",
    "df_clean = df_clean.loc[mask_street].copy()\n",
    "\n",
    "# ── 2  ensure every remaining address ends with a house number (1–299) ─────\n",
    "def ensure_number(addr: str) -> str:\n",
    "    if re.search(r'\\d+', addr):\n",
    "        return addr.strip()\n",
    "    num = np.random.randint(1, 300)          # adjust range here if you wish\n",
    "    return f\"{addr.strip()} {num}\"\n",
    "\n",
    "df_clean['Ubicacion: calle y numero'] = df_clean['adress'].apply(ensure_number)\n",
    "\n",
    "# ── 3  drop the old column so the schema matches Dataset 1 ──────────────────\n",
    "df_clean.drop(columns=['adress'], inplace=True)\n",
    "\n",
    "# ── 4  quick sanity check ───────────────────────────────────────────────────\n",
    "print(df_clean[['Ubicacion: calle y numero']].head())\n",
    "print(f\"Rows kept after filtering: {len(df_clean):,}\")\n"
   ]
  },
  {
   "cell_type": "code",
   "execution_count": 124,
   "metadata": {},
   "outputs": [],
   "source": [
    "df_clean.rename(columns={'city': 'Localidad'}, inplace=True)\n"
   ]
  },
  {
   "cell_type": "code",
   "execution_count": 125,
   "metadata": {},
   "outputs": [],
   "source": [
    "df_clean.rename(columns={'neighborhood': 'Barrio'}, inplace=True)\n"
   ]
  },
  {
   "cell_type": "code",
   "execution_count": 126,
   "metadata": {},
   "outputs": [],
   "source": [
    "df_clean.rename(columns={'sq_m_built': 'Superficie total (m2)'}, inplace=True)\n"
   ]
  },
  {
   "cell_type": "code",
   "execution_count": 127,
   "metadata": {},
   "outputs": [
    {
     "name": "stdout",
     "output_type": "stream",
     "text": [
      "count    821.000000\n",
      "mean     109.934227\n",
      "std       80.013859\n",
      "min       26.000000\n",
      "25%       59.000000\n",
      "50%       83.000000\n",
      "75%      130.000000\n",
      "max      561.000000\n",
      "Name: Gastos de la comunidad (€ por mes), dtype: float64\n",
      "          Ubicacion: calle y numero  Gastos de la comunidad (€ por mes)\n",
      "3              rambla del Raval 173                                63.0\n",
      "14        avenida del Paral·lel 149                                62.0\n",
      "68              calle sant marti 80                                38.0\n",
      "135  calle de Santa Joana d'Arc 213                                65.0\n",
      "147            calle d'Ortigosa 203                               137.0\n"
     ]
    }
   ],
   "source": [
    "import re\n",
    "import numpy as np\n",
    "\n",
    "# 1️⃣  Pull the fee if it’s written in the ad copy\n",
    "fee_pattern = re.compile(\n",
    "    r'(gastos\\s+de\\s+comunidad|comunidad)\\s*[:\\-]?\\s*(\\d{2,4})\\s*€',\n",
    "    flags=re.I\n",
    ")\n",
    "\n",
    "def fee_from_text(text):\n",
    "    if isinstance(text, str):\n",
    "        m = fee_pattern.search(text)\n",
    "        if m:\n",
    "            return float(m.group(2))\n",
    "    return np.nan\n",
    "\n",
    "# 2️⃣  Heuristic estimate when the ad doesn’t specify it\n",
    "def fee_estimate(row):\n",
    "    base = 0.70                                 # bare-bones fee per m²\n",
    "    if row.get('Ascensor'):       base += 0.15\n",
    "    if row.get('Piscina'):        base += 0.25\n",
    "    if row.get('Jardin'):         base += 0.10\n",
    "    if row.get('garage'):         base += 0.10\n",
    "    if row.get('Calefacción') and row.get('central_heating', '') == 'central':\n",
    "        base += 0.35\n",
    "\n",
    "    m2 = row.get('Superficie total (m2)', np.nan)\n",
    "    if np.isnan(m2):\n",
    "        return np.nan             # can’t guess without floor area\n",
    "\n",
    "    fee = base * m2\n",
    "    fee *= np.random.uniform(0.95, 1.05)   # ± 5 % jitter\n",
    "    return round(fee)\n",
    "\n",
    "# 3️⃣  Combine: declared fee if found, else estimate\n",
    "def community_fee(row):\n",
    "    declared = fee_from_text(row['description'])\n",
    "    return declared if not np.isnan(declared) else fee_estimate(row)\n",
    "\n",
    "df_clean['Gastos de la comunidad (€ por mes)'] = df_clean.apply(community_fee, axis=1)\n",
    "\n",
    "# 4️⃣  Inspect the result\n",
    "print(df_clean['Gastos de la comunidad (€ por mes)'].describe())\n",
    "print(df_clean[['Ubicacion: calle y numero', 'Gastos de la comunidad (€ por mes)']].head())\n"
   ]
  },
  {
   "cell_type": "code",
   "execution_count": 128,
   "metadata": {},
   "outputs": [
    {
     "name": "stdout",
     "output_type": "stream",
     "text": [
      "Tipo de calefaccion\n",
      "Caldera de gas natural         561\n",
      "Otro tipo de calefaccion       160\n",
      "Bomba de calor (Aerotermia)     99\n",
      "Sin calefaccion                  1\n",
      "Name: count, dtype: int64\n"
     ]
    }
   ],
   "source": [
    "import numpy as np\n",
    "import pandas as pd\n",
    "\n",
    "# ── helper that maps one row to the 5 Visitia categories ────────────────────\n",
    "def classify_heating(row) -> str:\n",
    "    \"\"\"\n",
    "    Uses Calefacción (bool), central_heating (str/bool) and heating_type (str)\n",
    "    to return:\n",
    "      • Caldera de gas natural\n",
    "      • Bomba de calor (Aerotermia)\n",
    "      • Caldera de biomasa\n",
    "      • Sin calefaccion\n",
    "      • Otro tipo de calefaccion\n",
    "    \"\"\"\n",
    "    # 0) explicit “no heating”\n",
    "    if not row.get('Calefacción', False) or str(row.get('central_heating')).lower() == 'no':\n",
    "        return 'Sin calefaccion'\n",
    "\n",
    "    # 1) detailed type if provided\n",
    "    ht = str(row.get('heating_type', '')).lower()\n",
    "\n",
    "    if ht in {'natural', 'gas', 'gas natural'}:\n",
    "        return 'Caldera de gas natural'\n",
    "\n",
    "    if ht in {'air', 'aerotermia', 'heat pump', 'bomba de calor'}:\n",
    "        return 'Bomba de calor (Aerotermia)'\n",
    "\n",
    "    if ht in {'biomass', 'biomasa', 'pellet', 'wood'}:\n",
    "        return 'Caldera de biomasa'\n",
    "\n",
    "    # 2) fallback for electric, fuel-oil, unknown, etc.\n",
    "    return 'Otro tipo de calefaccion'\n",
    "\n",
    "\n",
    "# 1️⃣  create the new Visitia column\n",
    "df_clean['Tipo de calefaccion'] = df_clean.apply(classify_heating, axis=1)\n",
    "\n",
    "# 2️⃣  drop only the auxiliary columns (keep Calefacción)\n",
    "df_clean.drop(columns=['central_heating', 'heating_type'], inplace=True)\n",
    "\n",
    "# 3️⃣  quick view of the distribution\n",
    "print(df_clean['Tipo de calefaccion'].value_counts(dropna=False))\n"
   ]
  },
  {
   "cell_type": "code",
   "execution_count": 129,
   "metadata": {},
   "outputs": [
    {
     "name": "stdout",
     "output_type": "stream",
     "text": [
      "Calefacción\n",
      "True     820\n",
      "False      1\n",
      "Name: count, dtype: int64\n"
     ]
    }
   ],
   "source": [
    "# count each unique value (True/False or NaN) in the Calefacción column\n",
    "print(df_clean['Calefacción'].value_counts(dropna=False))\n"
   ]
  },
  {
   "cell_type": "code",
   "execution_count": 130,
   "metadata": {},
   "outputs": [],
   "source": [
    "df_clean.rename(columns={'orientation': 'orientacion'}, inplace=True)\n"
   ]
  },
  {
   "cell_type": "code",
   "execution_count": 131,
   "metadata": {},
   "outputs": [
    {
     "name": "stdout",
     "output_type": "stream",
     "text": [
      "Index(['id', 'Tipo de vivienda', 'Barrio', 'Localidad', 'price',\n",
      "       'Superficie total (m2)', 'Superficie util (m2)', 'Habitaciones',\n",
      "       'Baños', 'Año de construccion', 'Vistas al exterior', 'Ascensor',\n",
      "       'Terraza', 'Balcon', 'garage', 'Piscina', 'Jardin',\n",
      "       'Aire acondicionado', 'Calefacción', 'orientacion', 'description',\n",
      "       'Estado', 'Interes', 'Precio de compra (€)', 'Precio de alquiler',\n",
      "       'Numero de Planta', 'Tipo de planta', 'Certificado energético',\n",
      "       'Ubicacion: calle y numero', 'Gastos de la comunidad (€ por mes)',\n",
      "       'Tipo de calefaccion'],\n",
      "      dtype='object')\n"
     ]
    }
   ],
   "source": [
    "print(df_clean.columns)"
   ]
  },
  {
   "cell_type": "code",
   "execution_count": 132,
   "metadata": {},
   "outputs": [
    {
     "name": "stdout",
     "output_type": "stream",
     "text": [
      "count      821.000000\n",
      "mean      2941.267795\n",
      "std       2634.045769\n",
      "min          3.840000\n",
      "25%         22.210000\n",
      "50%       3076.920000\n",
      "75%       4626.870000\n",
      "max      15662.650000\n",
      "Name: precio por metro cuadrado (€), dtype: float64\n"
     ]
    }
   ],
   "source": [
    "import pandas as pd\n",
    "import numpy as np\n",
    "\n",
    "# helper to choose the appropriate price column (sale price preferred over rent)\n",
    "def choose_price(row):\n",
    "    if not pd.isna(row['Precio de compra (€)']):\n",
    "        return row['Precio de compra (€)']\n",
    "    if not pd.isna(row['Precio de alquiler']):\n",
    "        return row['Precio de alquiler']\n",
    "    return np.nan                      # no usable price\n",
    "\n",
    "# vectorised computation\n",
    "area = df_clean['Superficie total (m2)']\n",
    "price = df_clean.apply(choose_price, axis=1)\n",
    "\n",
    "df_clean['precio por metro cuadrado (€)'] = np.where(\n",
    "    (area > 0) & ~pd.isna(price),\n",
    "    (price / area).round(2),           # two-decimal precision\n",
    "    np.nan\n",
    ")\n",
    "\n",
    "# quick look\n",
    "print(df_clean['precio por metro cuadrado (€)'].describe())\n"
   ]
  },
  {
   "cell_type": "code",
   "execution_count": 133,
   "metadata": {},
   "outputs": [],
   "source": [
    "df_clean.rename(columns={'description': 'Nota'}, inplace=True)\n"
   ]
  },
  {
   "cell_type": "code",
   "execution_count": 134,
   "metadata": {},
   "outputs": [
    {
     "name": "stdout",
     "output_type": "stream",
     "text": [
      "Index(['id', 'Tipo de vivienda', 'Barrio', 'Localidad', 'price',\n",
      "       'Superficie total (m2)', 'Superficie util (m2)', 'Habitaciones',\n",
      "       'Baños', 'Año de construccion', 'Vistas al exterior', 'Ascensor',\n",
      "       'Terraza', 'Balcon', 'garage', 'Piscina', 'Jardin',\n",
      "       'Aire acondicionado', 'Calefacción', 'orientacion', 'Nota', 'Estado',\n",
      "       'Interes', 'Precio de compra (€)', 'Precio de alquiler',\n",
      "       'Numero de Planta', 'Tipo de planta', 'Certificado energético',\n",
      "       'Ubicacion: calle y numero', 'Gastos de la comunidad (€ por mes)',\n",
      "       'Tipo de calefaccion', 'precio por metro cuadrado (€)'],\n",
      "      dtype='object')\n"
     ]
    }
   ],
   "source": [
    "print(df_clean.columns)"
   ]
  },
  {
   "cell_type": "code",
   "execution_count": 135,
   "metadata": {},
   "outputs": [
    {
     "name": "stdout",
     "output_type": "stream",
     "text": [
      "File saved as df_clean_processed.csv\n"
     ]
    }
   ],
   "source": [
    "# saves the file in the folder where your notebook / script is running\n",
    "df_clean.to_csv(\"df_clean_processed.csv\", index=False)\n",
    "print(\"File saved as df_clean_processed.csv\")\n"
   ]
  },
  {
   "cell_type": "code",
   "execution_count": 136,
   "metadata": {},
   "outputs": [
    {
     "name": "stdout",
     "output_type": "stream",
     "text": [
      "\n",
      "--- Localidades ---\n",
      "Localidad\n",
      "Barcelona                   718\n",
      "Badalona                     57\n",
      "Santa Coloma de Gramenet     23\n",
      "Hospitalet de Llobregat      21\n",
      "Sant Adriá de Besós           2\n",
      "Name: count, dtype: int64\n",
      "\n",
      "--- Barrios within Barcelona ---\n",
      "Barrio\n",
      "Sant Gervasi - Galvany                          74\n",
      "El Raval                                        71\n",
      "La Dreta de l'Eixample                          43\n",
      "Pedralbes                                       40\n",
      "El Gòtic                                        38\n",
      "Sant Andreu                                     29\n",
      "El Poble Sec - Parc de Montjuïc                 25\n",
      "Les Corts                                       22\n",
      "Hostafrancs                                     19\n",
      "Sant Martí de Provençals                        18\n",
      "Sant Pere - Santa Caterina i la Ribera          18\n",
      "El Camp de l'Arpa del Clot                      18\n",
      "El Poblenou                                     16\n",
      "La Nova Esquerra de l'Eixample                  15\n",
      "La Sagrada Família                              15\n",
      "Diagonal Mar i el Front Marítim del Poblenou    13\n",
      "L'Antiga Esquerra de l'Eixample                 12\n",
      "Sant Antoni                                     11\n",
      "El Camp d'En Grassot i Gràcia Nova              11\n",
      "Vila de Gràcia                                  11\n",
      "La Salut                                        10\n",
      "Les Tres Torres                                  9\n",
      "El Carmel                                        9\n",
      "La Teixonera                                     9\n",
      "La Marina del Port                               9\n",
      "Sarrià                                           9\n",
      "Vilapicina i la Torre Llobeta                    8\n",
      "Sant Gervasi - La Bonanova                       8\n",
      "El Clot                                          8\n",
      "Horta                                            8\n",
      "Provençals del Poblenou                          7\n",
      "El Putxet i el Farró                             7\n",
      "El Guinardó                                      7\n",
      "La Verneda i la Pau                              6\n",
      "Les Roquetes                                     6\n",
      "Sants - Badal                                    6\n",
      "Sants                                            6\n",
      "La Sagrera                                       4\n",
      "Canyelles                                        4\n",
      "Verdun                                           4\n",
      "La Guineueta                                     4\n",
      "La Trinitat Vella                                4\n",
      "La Bordeta                                       4\n",
      "Can Peguera - El Turó de la Peira                3\n",
      "El Fort Pienc                                    3\n",
      "Can Baró                                         3\n",
      "La Prosperitat                                   3\n",
      "Vallcarca i els Penitents                        3\n",
      "El Bon Pastor                                    3\n",
      "Navas                                            3\n",
      "Name: count, dtype: int64\n"
     ]
    }
   ],
   "source": [
    "# 🍿 1.  Unique municipalities (Localidad)\n",
    "print(\"\\n--- Localidades ---\")\n",
    "print(df_clean['Localidad'].value_counts(dropna=False))\n",
    "\n",
    "# 🍿 2.  Unique barrios for the largest city in the set\n",
    "largest_city = df_clean['Localidad'].value_counts().idxmax()\n",
    "print(f\"\\n--- Barrios within {largest_city} ---\")\n",
    "print(df_clean.loc[df_clean['Localidad'] == largest_city, 'Barrio']\n",
    "          .value_counts(dropna=False)\n",
    "          .head(50))          # adjust the head() count if you need more\n"
   ]
  },
  {
   "cell_type": "code",
   "execution_count": 137,
   "metadata": {},
   "outputs": [
    {
     "name": "stdout",
     "output_type": "stream",
     "text": [
      "     Localidad                                  Barrio  Provincia  \\\n",
      "3    Barcelona                                El Raval  Barcelona   \n",
      "14   Barcelona                                El Raval  Barcelona   \n",
      "68   Barcelona                                El Raval  Barcelona   \n",
      "135  Barcelona                                   Horta  Barcelona   \n",
      "147  Barcelona  Sant Pere - Santa Caterina i la Ribera  Barcelona   \n",
      "\n",
      "           Distrito  \n",
      "3      Ciutat Vella  \n",
      "14     Ciutat Vella  \n",
      "68     Ciutat Vella  \n",
      "135  Horta-Guinardó  \n",
      "147    Ciutat Vella  \n",
      "\n",
      "Distrito coverage:\n",
      " Distrito\n",
      "NaN                    156\n",
      "Ciutat Vella           127\n",
      "Sarrià-Sant Gervasi    107\n",
      "Eixample                96\n",
      "Sant Martí              86\n",
      "Sants-Montjuïc          65\n",
      "Les Corts               62\n",
      "Sant Andreu             39\n",
      "Horta-Guinardó          33\n",
      "Gràcia                  25\n",
      "Nou Barris              25\n",
      "Name: count, dtype: int64\n"
     ]
    }
   ],
   "source": [
    "import numpy as np\n",
    "import pandas as pd\n",
    "\n",
    "# 1️⃣  Provincia: all current localidades share the same province\n",
    "df_clean['Provincia'] = 'Barcelona'          # one-liner, but keeps the column explicit\n",
    "\n",
    "# 2️⃣  Distrito: map only for rows where Localidad == 'Barcelona'\n",
    "barrio_to_distrito = {\n",
    "    # Ciutat Vella\n",
    "    'El Raval': 'Ciutat Vella',\n",
    "    'El Gòtic': 'Ciutat Vella',\n",
    "    'Sant Pere - Santa Caterina i la Ribera': 'Ciutat Vella',\n",
    "    # Eixample\n",
    "    \"La Dreta de l'Eixample\": 'Eixample',\n",
    "    \"L'Antiga Esquerra de l'Eixample\": 'Eixample',\n",
    "    'La Nova Esquerra de l\\'Eixample': 'Eixample',\n",
    "    'La Sagrada Família': 'Eixample',\n",
    "    'Sant Antoni': 'Eixample',\n",
    "    # Les Corts\n",
    "    'Les Corts': 'Les Corts',\n",
    "    'Pedralbes': 'Les Corts',\n",
    "    # Sarrià-Sant Gervasi\n",
    "    'Sarrià': 'Sarrià-Sant Gervasi',\n",
    "    'Les Tres Torres': 'Sarrià-Sant Gervasi',\n",
    "    'Sant Gervasi - Galvany': 'Sarrià-Sant Gervasi',\n",
    "    'Sant Gervasi - La Bonanova': 'Sarrià-Sant Gervasi',\n",
    "    'El Putxet i el Farró': 'Sarrià-Sant Gervasi',\n",
    "    # Gràcia\n",
    "    'Vila de Gràcia': 'Gràcia',\n",
    "    \"El Camp d'En Grassot i Gràcia Nova\": 'Gràcia',\n",
    "    'Vallcarca i els Penitents': 'Gràcia',\n",
    "    # Horta-Guinardó\n",
    "    'Horta': 'Horta-Guinardó',\n",
    "    'El Guinardó': 'Horta-Guinardó',\n",
    "    'La Teixonera': 'Horta-Guinardó',\n",
    "    'El Carmel': 'Horta-Guinardó',\n",
    "    # Nou Barris\n",
    "    'Les Roquetes': 'Nou Barris',\n",
    "    'Verdun': 'Nou Barris',\n",
    "    'La Prosperitat': 'Nou Barris',\n",
    "    'Vilapicina i la Torre Llobeta': 'Nou Barris',\n",
    "    'Canyelles': 'Nou Barris',\n",
    "    # Sant Andreu\n",
    "    'Sant Andreu': 'Sant Andreu',\n",
    "    'El Bon Pastor': 'Sant Andreu',\n",
    "    'Navas': 'Sant Andreu',\n",
    "    'La Sagrera': 'Sant Andreu',\n",
    "    'Trinitat Vella': 'Sant Andreu',\n",
    "    # Sant Martí\n",
    "    'El Poblenou': 'Sant Martí',\n",
    "    'Diagonal Mar i el Front Marítim del Poblenou': 'Sant Martí',\n",
    "    'Provençals del Poblenou': 'Sant Martí',\n",
    "    'Sant Martí de Provençals': 'Sant Martí',\n",
    "    \"El Camp de l'Arpa del Clot\": 'Sant Martí',\n",
    "    'El Clot': 'Sant Martí',\n",
    "    'La Verneda i la Pau': 'Sant Martí',\n",
    "    # Sants-Montjuïc\n",
    "    'El Poble Sec - Parc de Montjuïc': 'Sants-Montjuïc',\n",
    "    'Sants': 'Sants-Montjuïc',\n",
    "    'Sants - Badal': 'Sants-Montjuïc',\n",
    "    'Hostafrancs': 'Sants-Montjuïc',\n",
    "    'La Marina del Port': 'Sants-Montjuïc',\n",
    "}\n",
    "\n",
    "def assign_distrito(row):\n",
    "    if row['Localidad'] != 'Barcelona':\n",
    "        return np.nan                      # districts only apply inside Barcelona\n",
    "    return barrio_to_distrito.get(row['Barrio'], np.nan)\n",
    "\n",
    "df_clean['Distrito'] = df_clean.apply(assign_distrito, axis=1)\n",
    "\n",
    "# 3️⃣  Quick sanity check\n",
    "print(df_clean[['Localidad', 'Barrio', 'Provincia', 'Distrito']].head())\n",
    "print('\\nDistrito coverage:\\n', df_clean['Distrito'].value_counts(dropna=False))\n"
   ]
  },
  {
   "cell_type": "code",
   "execution_count": 138,
   "metadata": {},
   "outputs": [
    {
     "name": "stdout",
     "output_type": "stream",
     "text": [
      "     Localidad                                  Barrio Codigo postal\n",
      "3    Barcelona                                El Raval         08001\n",
      "14   Barcelona                                El Raval         08001\n",
      "68   Barcelona                                El Raval         08001\n",
      "135  Barcelona                                   Horta         08031\n",
      "147  Barcelona  Sant Pere - Santa Caterina i la Ribera         08003\n",
      "\n",
      "Missing postcodes: 0\n"
     ]
    }
   ],
   "source": [
    "import numpy as np\n",
    "import pandas as pd\n",
    "\n",
    "# 1️⃣  Postcode lookup ­– Barcelona barrios (complete for current dataset)\n",
    "barri_zip = {\n",
    "    # Ciutat Vella\n",
    "    'El Raval':                                  '08001',\n",
    "    'El Gòtic':                                  '08002',\n",
    "    'Sant Pere - Santa Caterina i la Ribera':    '08003',\n",
    "    'La Barceloneta':                            '08003',\n",
    "\n",
    "    # Eixample\n",
    "    \"La Dreta de l'Eixample\":                    '08007',\n",
    "    \"L'Antiga Esquerra de l'Eixample\":           '08008',\n",
    "    \"La Nova Esquerra de l'Eixample\":            '08015',\n",
    "    'La Sagrada Família':                        '08013',\n",
    "    'Sant Antoni':                               '08001',\n",
    "    'El Fort Pienc':                             '08013',\n",
    "    'El Baix Guinardó':                          '08025',\n",
    "\n",
    "    # Les Corts\n",
    "    'Les Corts':                                 '08028',\n",
    "    'Pedralbes':                                 '08034',\n",
    "    'La Maternitat i Sant Ramon':                '08028',\n",
    "\n",
    "    # Sarrià-Sant Gervasi\n",
    "    'Sarrià':                                    '08017',\n",
    "    'Les Tres Torres':                           '08017',\n",
    "    'Sant Gervasi - Galvany':                    '08021',\n",
    "    'Sant Gervasi - La Bonanova':                '08022',\n",
    "    'El Putxet i el Farró':                      '08023',\n",
    "    'Vallvidrera - El Tibidabo i les Planes':    '08017',\n",
    "\n",
    "    # Gràcia\n",
    "    'Vila de Gràcia':                            '08012',\n",
    "    \"El Camp d'En Grassot i Gràcia Nova\":        '08025',\n",
    "    'Vallcarca i els Penitents':                 '08023',\n",
    "    'La Salut':                                  '08024',\n",
    "    'El Coll':                                   '08023',\n",
    "\n",
    "    # Horta-Guinardó\n",
    "    'Horta':                                     '08031',\n",
    "    'El Guinardó':                               '08041',\n",
    "    'La Teixonera':                              '08035',\n",
    "    'El Carmel':                                 '08032',\n",
    "    'Can Baró':                                  '08041',\n",
    "    \"La Font d'En Fargues\":                      '08032',\n",
    "    'Sant Genís Dels Agudells - Montbau':        '08035',\n",
    "\n",
    "    # Nou Barris\n",
    "    'Les Roquetes':                              '08042',\n",
    "    'Verdun':                                    '08042',\n",
    "    'La Prosperitat':                            '08033',\n",
    "    'Vilapicina i la Torre Llobeta':             '08031',\n",
    "    'Canyelles':                                 '08042',\n",
    "    'Can Peguera - El Turó de la Peira':         '08031',\n",
    "    'La Guineueta':                              '08042',\n",
    "    'La Trinitat Nova':                          '08033',\n",
    "\n",
    "    # Sant Andreu\n",
    "    'Sant Andreu':                               '08030',\n",
    "    'El Bon Pastor':                             '08030',\n",
    "    'Navas':                                     '08027',\n",
    "    'La Sagrera':                                '08027',\n",
    "    'Trinitat Vella':                            '08030',\n",
    "    'La Trinitat Vella':                         '08030',\n",
    "    'El Congrés i els Indians':                  '08027',\n",
    "\n",
    "    # Sant Martí\n",
    "    'El Poblenou':                               '08005',\n",
    "    'La Vila Olímpica del Poblenou':             '08005',\n",
    "    'Diagonal Mar i el Front Marítim del Poblenou': '08019',\n",
    "    'Provençals del Poblenou':                   '08019',\n",
    "    'Sant Martí de Provençals':                  '08020',\n",
    "    \"El Camp de l'Arpa del Clot\":                '08026',\n",
    "    'El Clot':                                   '08018',\n",
    "    'La Verneda i la Pau':                       '08020',\n",
    "    'El Besòs':                                  '08019',\n",
    "    'El Parc i la Llacuna del Poblenou':         '08005',\n",
    "\n",
    "    # Sants-Montjuïc\n",
    "    'El Poble Sec - Parc de Montjuïc':           '08004',\n",
    "    'Sants':                                     '08028',\n",
    "    'Sants - Badal':                             '08028',\n",
    "    'Hostafrancs':                               '08014',\n",
    "    'La Marina del Port':                        '08038',\n",
    "    'La Marina del Prat Vermell':                '08038',\n",
    "    'La Bordeta':                                '08014',\n",
    "    'La Font de la Guatlla':                     '08038',\n",
    "}\n",
    "\n",
    "# 2️⃣  Surrounding municipalities – one postcode each\n",
    "localidad_zip = {\n",
    "    'Barcelona':                   np.nan,   # filled via barrio\n",
    "    'Badalona':                    '08912',\n",
    "    'Santa Coloma de Gramenet':    '08921',\n",
    "    'Hospitalet de Llobregat':     '08901',\n",
    "    'Sant Adriá de Besós':         '08930',\n",
    "}\n",
    "\n",
    "# 3️⃣  Assign Código postal\n",
    "def assign_cp(row):\n",
    "    if row['Localidad'] == 'Barcelona':\n",
    "        return barri_zip.get(row['Barrio'], np.nan)\n",
    "    return localidad_zip.get(row['Localidad'], np.nan)\n",
    "\n",
    "df_clean['Codigo postal'] = df_clean.apply(assign_cp, axis=1)\n",
    "\n",
    "# 4️⃣  Verify\n",
    "print(df_clean[['Localidad', 'Barrio', 'Codigo postal']].head())\n",
    "print('\\nMissing postcodes:', df_clean['Codigo postal'].isna().sum())\n"
   ]
  },
  {
   "cell_type": "code",
   "execution_count": 139,
   "metadata": {},
   "outputs": [
    {
     "name": "stdout",
     "output_type": "stream",
     "text": [
      "Vistas al mar\n",
      "No    768\n",
      "Sí     53\n",
      "Name: count, dtype: int64\n"
     ]
    }
   ],
   "source": [
    "import numpy as np\n",
    "import pandas as pd\n",
    "\n",
    "# 1️⃣  Which barrios (and towns) are on the coastline?\n",
    "coastal_barrios = {\n",
    "    'La Barceloneta',\n",
    "    'El Poblenou',\n",
    "    'La Vila Olímpica del Poblenou',\n",
    "    'Diagonal Mar i el Front Marítim del Poblenou',\n",
    "    'El Besòs',\n",
    "    'El Parc i la Llacuna del Poblenou',         # touches the seafront park\n",
    "    'La Marina del Port',                        # Port zone\n",
    "    'La Marina del Prat Vermell',\n",
    "}\n",
    "\n",
    "coastal_towns = {'Badalona', 'Sant Adriá de Besós'}   # whole municipality is coastal\n",
    "\n",
    "# 2️⃣  Function to decide Yes/No per row\n",
    "rng = np.random.default_rng()        # independent generator\n",
    "\n",
    "def sea_view(row):\n",
    "    loc  = row['Localidad']\n",
    "    barr = row['Barrio']\n",
    "    coastal = (loc in coastal_towns) or (barr in coastal_barrios)\n",
    "    if not coastal:\n",
    "        return 'No'\n",
    "    # 50-50 chance for coastal listings\n",
    "    return rng.choice(['Sí', 'No'])\n",
    "\n",
    "# 3️⃣  Create the new column\n",
    "df_clean['Vistas al mar'] = df_clean.apply(sea_view, axis=1)\n",
    "\n",
    "# 4️⃣  Quick check\n",
    "print(df_clean['Vistas al mar'].value_counts(dropna=False))\n"
   ]
  },
  {
   "cell_type": "code",
   "execution_count": 140,
   "metadata": {},
   "outputs": [],
   "source": [
    "import numpy as np\n",
    "\n",
    "rng = np.random.default_rng()   # independent random generator\n",
    "\n",
    "# 1️⃣  Armarios empotrados\n",
    "def choose_armarios(row):\n",
    "    prob_yes = 0.8 if (row['Estado'] in ['a estrenar', 'reformado'] or\n",
    "                       row['Interes'] == 'obra nueva') else 0.4\n",
    "    return rng.choice(['Sí', 'No'], p=[prob_yes, 1 - prob_yes])\n",
    "\n",
    "df_clean['Armarios empotrados'] = df_clean.apply(choose_armarios, axis=1)\n",
    "\n",
    "# 2️⃣  Vivienda accesible\n",
    "def choose_accesible(row):\n",
    "    prob_yes = 0.7 if row.get('Ascensor') else 0.2\n",
    "    return rng.choice(['Sí', 'No'], p=[prob_yes, 1 - prob_yes])\n",
    "\n",
    "df_clean['Vivienda accesible'] = df_clean.apply(choose_accesible, axis=1)\n",
    "\n",
    "# 3️⃣  Trastero o bodega\n",
    "def choose_trastero(row):\n",
    "    prob_yes = 0.6 if row.get('garage') else 0.3\n",
    "    return rng.choice(['Sí', 'No'], p=[prob_yes, 1 - prob_yes])\n",
    "\n",
    "df_clean['Trastero o bodega'] = df_clean.apply(choose_trastero, axis=1)\n",
    "\n",
    "\n"
   ]
  },
  {
   "cell_type": "code",
   "execution_count": 141,
   "metadata": {},
   "outputs": [
    {
     "name": "stdout",
     "output_type": "stream",
     "text": [
      "Muebles  Vigilancia  Vivienda de lujo\n",
      "No       No          No                  166\n",
      "Sí       No          No                  154\n",
      "No       No          Sí                  131\n",
      "Sí       No          Sí                   95\n",
      "No       Sí          No                   86\n",
      "Sí       Sí          No                   78\n",
      "No       Sí          Sí                   61\n",
      "Sí       Sí          Sí                   50\n",
      "Name: count, dtype: int64\n"
     ]
    }
   ],
   "source": [
    "import numpy as np\n",
    "import pandas as pd\n",
    "\n",
    "rng = np.random.default_rng()   # independent generator\n",
    "\n",
    "# 1️⃣  Muebles ─ furnished homes are much more common on the rental market\n",
    "def choose_muebles(row):\n",
    "    prob_yes = 0.75 if row['Interes'] == 'alquilar' else 0.30\n",
    "    return rng.choice(['Sí', 'No'], p=[prob_yes, 1 - prob_yes])\n",
    "\n",
    "df_clean['Muebles'] = df_clean.apply(choose_muebles, axis=1)\n",
    "\n",
    "# 2️⃣  Vigilancia ─ more likely when the building offers premium services\n",
    "def choose_vigilancia(row):\n",
    "    premium_flags = sum([\n",
    "        row.get('Ascensor', False),\n",
    "        row.get('Piscina',  False),\n",
    "        row.get('garage',   False),\n",
    "        row.get('Jardin',   False)\n",
    "    ])\n",
    "    # baseline 15 % → climbs to 70 % when several amenities are present\n",
    "    prob_yes = 0.15 + 0.15 * premium_flags          # 0.15 → 0.75\n",
    "    prob_yes = min(prob_yes, 0.75)\n",
    "    return rng.choice(['Sí', 'No'], p=[prob_yes, 1 - prob_yes])\n",
    "\n",
    "df_clean['Vigilancia'] = df_clean.apply(choose_vigilancia, axis=1)\n",
    "\n",
    "# 3️⃣  Vivienda de lujo ─ flagged when price or €/m² is high\n",
    "high_price      = df_clean['price'] > 600_000\n",
    "high_ppm2       = df_clean['precio por metro cuadrado (€)'] > 4500\n",
    "\n",
    "def choose_lujo(row):\n",
    "    if high_price.loc[row.name] or high_ppm2.loc[row.name]:\n",
    "        prob_yes = 0.80          # strong chance of “luxury”\n",
    "    else:\n",
    "        prob_yes = 0.10          # only occasional upscale exceptions\n",
    "    return rng.choice(['Sí', 'No'], p=[prob_yes, 1 - prob_yes])\n",
    "\n",
    "df_clean['Vivienda de lujo'] = df_clean.apply(choose_lujo, axis=1)\n",
    "\n",
    "# Quick sanity check\n",
    "print(df_clean[['Muebles', 'Vigilancia', 'Vivienda de lujo']].value_counts())\n"
   ]
  },
  {
   "cell_type": "code",
   "execution_count": 142,
   "metadata": {},
   "outputs": [],
   "source": [
    "# Save the current DataFrame to a CSV in your working folder (shown by os.getcwd())\n",
    "df_clean.to_csv(\"df.csv\", index=False)\n",
    "\n"
   ]
  },
  {
   "cell_type": "code",
   "execution_count": 143,
   "metadata": {},
   "outputs": [
    {
     "name": "stdout",
     "output_type": "stream",
     "text": [
      "     Numero de Planta Ubicacion: Piso y número, letra o portal\n",
      "3                   3                                     3º A\n",
      "14                  5                            5º A Portal 2\n",
      "68                  1                            1º C Portal 1\n",
      "135                 1                            1º B Portal 3\n",
      "147                 1                            1º B Portal 1\n"
     ]
    }
   ],
   "source": [
    "import numpy as np\n",
    "import pandas as pd\n",
    "\n",
    "rng = np.random.default_rng()\n",
    "\n",
    "def build_unit_string(row):\n",
    "    piso = row['Numero de Planta']          # already an int (can be −1 .. 25)\n",
    "\n",
    "    # 1️⃣  Normalise ground/basement wording\n",
    "    if pd.isna(piso):\n",
    "        piso_str = 's/n'                    # unknown floor\n",
    "    elif piso <= 0:\n",
    "        piso_str = 'Bajo' if piso == 0 else f'Sótano {abs(int(piso))}'\n",
    "    else:\n",
    "        piso_str = f'{int(piso)}º'\n",
    "\n",
    "    # 2️⃣  Random door letter\n",
    "    door_letter = rng.choice(list('ABCD'))\n",
    "\n",
    "    # 3️⃣  Optional portal number for larger blocks\n",
    "    need_portal = (row.get('Ascensor', False) or (piso and piso >= 4))\n",
    "    portal = f' Portal {rng.integers(1, 4)}' if need_portal else ''\n",
    "\n",
    "    return f'{piso_str} {door_letter}{portal}'\n",
    "\n",
    "df_clean['Ubicacion: Piso y número, letra o portal'] = df_clean.apply(build_unit_string, axis=1)\n",
    "\n",
    "# Quick peek\n",
    "print(df_clean[['Numero de Planta', 'Ubicacion: Piso y número, letra o portal']].head())\n"
   ]
  },
  {
   "cell_type": "code",
   "execution_count": 144,
   "metadata": {},
   "outputs": [],
   "source": [
    "# mapping municipio → (ID, Nombre)\n",
    "agency_lookup = {\n",
    "    'Barcelona':                   (1, 'Lucas Fox Barcelona'),\n",
    "    'Badalona':                    (2, 'VIP House Badalona'),\n",
    "    'Santa Coloma de Gramenet':    (3, 'Fincas Mirafer'),\n",
    "    'Hospitalet de Llobregat':     (4, 'Punt Buenos Aires BCN'),\n",
    "    'Sant Adriá de Besós':         (5, 'Asa Habitatges'),\n",
    "}\n",
    "\n",
    "df_clean[['ID de inmobiliaria', 'Nombre de inmobiliaria']] = (\n",
    "    df_clean['Localidad']\n",
    "      .apply(lambda loc: agency_lookup[loc])\n",
    "      .apply(pd.Series)\n",
    ")\n",
    "\n"
   ]
  },
  {
   "cell_type": "code",
   "execution_count": 145,
   "metadata": {},
   "outputs": [
    {
     "name": "stdout",
     "output_type": "stream",
     "text": [
      "                                  Nombre vivienda\n",
      "3           Flat / apartment Rambla Del Raval 173\n",
      "14         Flat / apartment Av. Del Paral·Lel 149\n",
      "68              Flat / apartment C. Sant Marti 80\n",
      "135  Flat / apartment C. De Santa Joana D'Arc 213\n",
      "147            Flat / apartment C. D'Ortigosa 203\n"
     ]
    }
   ],
   "source": [
    "import re\n",
    "\n",
    "def build_nombre(row):\n",
    "    tipo  = str(row['Tipo de vivienda']).capitalize()        # e.g. “Piso”\n",
    "    calle = str(row['Ubicacion: calle y numero']).title()    # tidy street string\n",
    "    # Optional: shorten “Calle” → “C.” etc.\n",
    "    calle = re.sub(r'\\bCalle\\b', 'C.', calle, flags=re.I)\n",
    "    calle = re.sub(r'\\bAvenida\\b', 'Av.', calle, flags=re.I)\n",
    "    return f\"{tipo} {calle}\"\n",
    "\n",
    "df_clean['Nombre vivienda'] = df_clean.apply(build_nombre, axis=1)\n",
    "\n",
    "# quick peek\n",
    "print(df_clean[['Nombre vivienda']].head())\n"
   ]
  },
  {
   "cell_type": "code",
   "execution_count": 146,
   "metadata": {},
   "outputs": [
    {
     "name": "stdout",
     "output_type": "stream",
     "text": [
      "                                     Barrio  ID mapa ubicacion  \\\n",
      "3                                  El Raval                  1   \n",
      "14                                 El Raval                  1   \n",
      "68                                 El Raval                  1   \n",
      "135                                   Horta                  2   \n",
      "147  Sant Pere - Santa Caterina i la Ribera                  3   \n",
      "\n",
      "                   Nombre mapa de Ubicacion  \n",
      "3                                  El Raval  \n",
      "14                                 El Raval  \n",
      "68                                 El Raval  \n",
      "135                                   Horta  \n",
      "147  Sant Pere - Santa Caterina i la Ribera  \n"
     ]
    }
   ],
   "source": [
    "import pandas as pd\n",
    "\n",
    "# 1️⃣  Create a repeatable barrio → ID mapping\n",
    "barrio_ids = {b: i for i, b in enumerate(df_clean['Barrio'].dropna().unique(), start=1)}\n",
    "\n",
    "# 2️⃣  Add the two new columns\n",
    "df_clean['ID mapa ubicacion']      = df_clean['Barrio'].map(barrio_ids)\n",
    "df_clean['Nombre mapa de Ubicacion'] = df_clean['Barrio']        # copy as-is\n",
    "\n",
    "# 3️⃣  Quick peek\n",
    "print(df_clean[['Barrio', 'ID mapa ubicacion', 'Nombre mapa de Ubicacion']].head())\n"
   ]
  },
  {
   "cell_type": "code",
   "execution_count": 147,
   "metadata": {},
   "outputs": [],
   "source": [
    "df_clean.to_csv(\"final_df.csv\", index=False)"
   ]
  },
  {
   "cell_type": "code",
   "execution_count": 148,
   "metadata": {},
   "outputs": [
    {
     "name": "stdout",
     "output_type": "stream",
     "text": [
      "Columns in df_clean: 48\n",
      "id                                            0\n",
      "Tipo de vivienda                              0\n",
      "Barrio                                        0\n",
      "Localidad                                     0\n",
      "price                                         0\n",
      "Superficie total (m2)                         0\n",
      "Superficie util (m2)                          0\n",
      "Habitaciones                                  0\n",
      "Baños                                         0\n",
      "Año de construccion                           0\n",
      "Vistas al exterior                            0\n",
      "Ascensor                                      0\n",
      "Terraza                                       0\n",
      "Balcon                                        0\n",
      "garage                                        0\n",
      "Piscina                                       0\n",
      "Jardin                                        0\n",
      "Aire acondicionado                            0\n",
      "Calefacción                                   0\n",
      "orientacion                                   0\n",
      "Nota                                          0\n",
      "Estado                                        0\n",
      "Interes                                       0\n",
      "Precio de compra (€)                        295\n",
      "Precio de alquiler                          526\n",
      "Numero de Planta                              0\n",
      "Tipo de planta                                0\n",
      "Certificado energético                        0\n",
      "Ubicacion: calle y numero                     0\n",
      "Gastos de la comunidad (€ por mes)            0\n",
      "Tipo de calefaccion                           0\n",
      "precio por metro cuadrado (€)                 0\n",
      "Provincia                                     0\n",
      "Distrito                                    156\n",
      "Codigo postal                                 0\n",
      "Vistas al mar                                 0\n",
      "Armarios empotrados                           0\n",
      "Vivienda accesible                            0\n",
      "Trastero o bodega                             0\n",
      "Muebles                                       0\n",
      "Vigilancia                                    0\n",
      "Vivienda de lujo                              0\n",
      "Ubicacion: Piso y número, letra o portal      0\n",
      "ID de inmobiliaria                            0\n",
      "Nombre de inmobiliaria                        0\n",
      "Nombre vivienda                               0\n",
      "ID mapa ubicacion                             0\n",
      "Nombre mapa de Ubicacion                      0\n",
      "dtype: int64\n"
     ]
    }
   ],
   "source": [
    "# number of columns\n",
    "n_cols = df_clean.shape[1]     # or len(df_clean.columns)\n",
    "\n",
    "# null counts per column\n",
    "nulls = df_clean.isna().sum()  # .isnull() works the same\n",
    "\n",
    "print(f\"Columns in df_clean: {n_cols}\")\n",
    "print(nulls)\n"
   ]
  },
  {
   "cell_type": "code",
   "execution_count": 149,
   "metadata": {},
   "outputs": [],
   "source": [
    "# drop the column named \"price\" and update the DataFrame\n",
    "df_clean = df_clean.drop(columns=[\"price\"])      # returns a new DataFrame\n",
    "\n",
    "# —or— do it in-place:\n",
    "# df_clean.drop(columns=[\"price\"], inplace=True)\n"
   ]
  },
  {
   "cell_type": "code",
   "execution_count": 150,
   "metadata": {},
   "outputs": [
    {
     "name": "stdout",
     "output_type": "stream",
     "text": [
      "Rows in df_clean: 821\n"
     ]
    }
   ],
   "source": [
    "# number of rows in df_clean\n",
    "n_rows = df_clean.shape[0]      # or simply len(df_clean)\n",
    "\n",
    "print(f\"Rows in df_clean: {n_rows}\")\n"
   ]
  },
  {
   "cell_type": "code",
   "execution_count": 151,
   "metadata": {},
   "outputs": [],
   "source": [
    "df_clean.to_csv(\"more_rentals_df.csv\", index=False)"
   ]
  },
  {
   "cell_type": "code",
   "execution_count": 152,
   "metadata": {},
   "outputs": [
    {
     "name": "stderr",
     "output_type": "stream",
     "text": [
      "/var/folders/5r/5_r4h6857zz40638vhy248s40000gn/T/ipykernel_36490/1267715369.py:13: FutureWarning: DataFrame.applymap has been deprecated. Use DataFrame.map instead.\n",
      "  df_clean[yes_no_columns] = df_clean[yes_no_columns].applymap(lambda x: x == \"Sí\")\n"
     ]
    }
   ],
   "source": [
    "# List of columns with \"Sí\"/\"No\" values\n",
    "yes_no_columns = [\n",
    "    'Vistas al mar',\n",
    "    'Armarios empotrados',\n",
    "    'Vivienda accesible',\n",
    "    'Trastero o bodega',\n",
    "    'Muebles',\n",
    "    'Vigilancia',\n",
    "    'Vivienda de lujo'\n",
    "]\n",
    "\n",
    "# Convert to boolean: True for \"Sí\", False for \"No\"\n",
    "df_clean[yes_no_columns] = df_clean[yes_no_columns].applymap(lambda x: x == \"Sí\")\n"
   ]
  },
  {
   "cell_type": "code",
   "execution_count": null,
   "metadata": {},
   "outputs": [],
   "source": []
  }
 ],
 "metadata": {
  "kernelspec": {
   "display_name": "venv",
   "language": "python",
   "name": "python3"
  },
  "language_info": {
   "codemirror_mode": {
    "name": "ipython",
    "version": 3
   },
   "file_extension": ".py",
   "mimetype": "text/x-python",
   "name": "python",
   "nbconvert_exporter": "python",
   "pygments_lexer": "ipython3",
   "version": "3.13.5"
  }
 },
 "nbformat": 4,
 "nbformat_minor": 2
}
